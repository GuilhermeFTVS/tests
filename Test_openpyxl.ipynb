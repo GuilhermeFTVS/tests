{
 "cells": [
  {
   "cell_type": "code",
   "execution_count": 7,
   "id": "b565ac2f",
   "metadata": {},
   "outputs": [],
   "source": [
    "'''\n",
    "* Interesting commands:\n",
    "- Load and save workbooks\n",
    "workbook = load_workbook(filename='example.xlsm')\n",
    "workbook.save(filename='example.xlsx')\n",
    "\n",
    "- Access all sheetnames and sheets\n",
    "workbook.sheetnames\n",
    "workbook['sheetname']\n",
    "\n",
    "- \n",
    "workbook['sheetname']['cellname'].value\n",
    "cell_range = worksheet['A1':'C2']\n",
    "''';"
   ]
  },
  {
   "cell_type": "code",
   "execution_count": 2,
   "id": "9bdc145c",
   "metadata": {},
   "outputs": [],
   "source": [
    "from openpyxl import load_workbook\n",
    "\n",
    "filename = '1- Loss and Uncertainty_V2.0_V117 4.3MW.xlsm'\n",
    "\n",
    "# Load the Excel file\n",
    "workbook = load_workbook(filename=filename)\n",
    "\n",
    "# Get the active sheet\n",
    "sheet = workbook.active\n",
    "\n",
    "'''\n",
    "# Loop over the rows in the sheet and modify the values\n",
    "for row in sheet.iter_rows(min_row=2):\n",
    "    name = row[0].value\n",
    "    email = row[1].value\n",
    "    phone = row[2].value\n",
    "\n",
    "    # Modify the phone number by removing any non-digit characters\n",
    "    if phone is not None:\n",
    "        phone = ''.join(filter(str.isdigit, phone))\n",
    "\n",
    "    # Write the modified values back to the sheet\n",
    "    row[0].value = name.title()\n",
    "    row[1].value = email.lower()\n",
    "    row[2].value = phone\n",
    "''';"
   ]
  },
  {
   "cell_type": "code",
   "execution_count": 38,
   "id": "fa3ab934",
   "metadata": {},
   "outputs": [
    {
     "data": {
      "text/plain": [
       "((<Cell 'PastePark'.A6>, <Cell 'PastePark'.B6>),\n",
       " (<Cell 'PastePark'.A7>, <Cell 'PastePark'.B7>))"
      ]
     },
     "execution_count": 38,
     "metadata": {},
     "output_type": "execute_result"
    }
   ],
   "source": [
    "ws = workbook['PastePark']\n",
    "\n",
    "ws['A6':'B7']"
   ]
  }
 ],
 "metadata": {
  "kernelspec": {
   "display_name": "Python 3 (ipykernel)",
   "language": "python",
   "name": "python3"
  },
  "language_info": {
   "codemirror_mode": {
    "name": "ipython",
    "version": 3
   },
   "file_extension": ".py",
   "mimetype": "text/x-python",
   "name": "python",
   "nbconvert_exporter": "python",
   "pygments_lexer": "ipython3",
   "version": "3.10.9"
  }
 },
 "nbformat": 4,
 "nbformat_minor": 5
}
